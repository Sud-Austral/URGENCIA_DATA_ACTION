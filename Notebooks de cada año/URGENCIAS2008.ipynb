{
 "cells": [
  {
   "cell_type": "code",
   "execution_count": 57,
   "metadata": {},
   "outputs": [],
   "source": [
    "import pandas as pd"
   ]
  },
  {
   "cell_type": "code",
   "execution_count": 58,
   "metadata": {
    "scrolled": false
   },
   "outputs": [],
   "source": [
    "df = pd.read_csv(r\"C:\\Users\\gusti\\Notebooks\\urgencias\\AtencionesUrgenciaLineal2008.csv\")"
   ]
  },
  {
   "cell_type": "code",
   "execution_count": 59,
   "metadata": {},
   "outputs": [
    {
     "data": {
      "text/plain": [
       "array(['2008-12-28', '2008-12-29', '2008-12-30', '2008-12-31',\n",
       "       '2009-01-01', '2009-01-02', '2009-01-03'], dtype=object)"
      ]
     },
     "execution_count": 59,
     "metadata": {},
     "output_type": "execute_result"
    }
   ],
   "source": [
    "df[df[\"semana\"]==53][\"fecha\"].unique()"
   ]
  },
  {
   "cell_type": "code",
   "execution_count": 64,
   "metadata": {
    "scrolled": true
   },
   "outputs": [
    {
     "name": "stdout",
     "output_type": "stream",
     "text": [
      "Hospital Dr. Leonardo Guzmán (Antofagasta)                                                          \n",
      "Hospital de Puerto Montt                                                                            \n",
      "SAPU- Dr.  Alejandro del Río                                                                        \n",
      "SAPU-Los Quillayes                                                                                  \n",
      "Complejo Hospitalario Dr. Sótero del Río (Santiago, Puente Alto)                                    \n",
      "Complejo Hospitalario San José (Santiago, Independencia)                                            \n",
      "SAPU-Cóndores de Chile\n",
      "Centro de Referencia de Salud San Rafael                                                            \n",
      "Hospital Barros Luco Trudeau (Santiago, San Miguel)                                                 \n",
      "Hospital El Pino (Santiago, San Bernardo)                                                           \n",
      "SAPU-Lo Hermida                                                                                     \n",
      "SAPU-La Faena                                                                                       \n",
      "SAPU-Dr. Norman Voulliéme                                                                           \n",
      "Hospital Dr. Luis Tisné B. (Santiago, Peñalolén)                                                    \n",
      "SAPU-Renca\n",
      "Centro de Referencia de Salud de Maipú                                                              \n",
      "SAPU-Pudahuel Estrella                                                                              \n",
      "Hospital Padre Alberto Hurtado (San Ramón)                                                          \n",
      "Hospital San Juan de Dios (Santiago, Santiago)                                                      \n",
      "Hospital Clínico de Niños Dr. Roberto del Río (Santiago, Independencia)                             \n",
      "SAPU-Cisterna Sur\n",
      "Hospital Dr. Exequiel González Cortés (Santiago, San Miguel)                                        \n",
      "Hospital de Urgencia Asistencia Pública Dr. Alejandro del Río (Santiago, Santiago)                  \n",
      "Hospital Dr. Félix Bulnes Cerda (Santiago, Quinta Normal)                                           \n",
      "SAPU-La Pincoya                                                                                     \n",
      "SAPU-Centro de Urgencia Ñuñoa                                                                       \n",
      "Hospital Dr. Hernán Henríquez Aravena (Temuco)                                                      \n",
      "Hospital Clínico Regional Dr. Guillermo Grant Benavente (Concepción)                                \n",
      "Hospital de Niños Dr. Luis Calvo Mackenna (Santiago, Providencia)                                   \n",
      "SAPU-San José de Chuchunco                                                                          \n",
      "Hospital Clínico San Borja-Arriarán (Santiago, Santiago)                                            \n",
      "Hospital Dr. Gustavo Fricke (Viña del Mar)                                                          \n",
      "Hospital Del Salvador (Santiago, Providencia)                                                       \n",
      "SAPU-Lucas Sierra                                                                                   \n",
      "34\n"
     ]
    }
   ],
   "source": [
    "n = 0\n",
    "for i in df[\"NEstablecimiento\"].unique():\n",
    "    print(i)\n",
    "    n = n + 1\n",
    "print(n)"
   ]
  },
  {
   "cell_type": "code",
   "execution_count": 60,
   "metadata": {},
   "outputs": [],
   "source": [
    "df[\"Año\"] = df[\"fecha\"].apply(lambda x: str(x)[0:4])"
   ]
  },
  {
   "cell_type": "code",
   "execution_count": 61,
   "metadata": {},
   "outputs": [],
   "source": [
    "del df[\"Menores de 1 año\"]\n",
    "del df[\"1-4 años\"]\n",
    "del df[\"5-14 años\"]\n",
    "del df[\"15-64 años\"]\n",
    "del df[\"65 años y más\"]"
   ]
  },
  {
   "cell_type": "code",
   "execution_count": 62,
   "metadata": {},
   "outputs": [],
   "source": [
    "df2 = df.groupby(by=['IdEstablecimiento', 'NEstablecimiento', 'IdCausa', 'GlosaCausa',\n",
    "                     'semana', 'GLOSATIPOESTABLECIMIENTO',\n",
    "                     'GLOSATIPOATENCION', 'GlosaTipoCampana', 'Año']).sum()"
   ]
  },
  {
   "cell_type": "code",
   "execution_count": null,
   "metadata": {},
   "outputs": [],
   "source": [
    "df2 = df2.reset_index()\n",
    "df2.to_excel(\"PruebaUrgencias2008.xlsx\", index = False)"
   ]
  }
 ],
 "metadata": {
  "kernelspec": {
   "display_name": "Python 3",
   "language": "python",
   "name": "python3"
  },
  "language_info": {
   "codemirror_mode": {
    "name": "ipython",
    "version": 3
   },
   "file_extension": ".py",
   "mimetype": "text/x-python",
   "name": "python",
   "nbconvert_exporter": "python",
   "pygments_lexer": "ipython3",
   "version": "3.8.5"
  }
 },
 "nbformat": 4,
 "nbformat_minor": 4
}
