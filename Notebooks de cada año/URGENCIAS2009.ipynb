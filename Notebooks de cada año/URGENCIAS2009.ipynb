{
 "cells": [
  {
   "cell_type": "code",
   "execution_count": 4,
   "metadata": {},
   "outputs": [],
   "source": [
    "import pandas as pd"
   ]
  },
  {
   "cell_type": "code",
   "execution_count": 19,
   "metadata": {
    "scrolled": false
   },
   "outputs": [],
   "source": [
    "df = pd.read_csv(r\"C:\\Users\\gusti\\Notebooks\\urgencias\\AtencionesUrgenciaLineal2009.csv\")"
   ]
  },
  {
   "cell_type": "code",
   "execution_count": 7,
   "metadata": {},
   "outputs": [
    {
     "data": {
      "text/plain": [
       "array(['2009-01-04', '2009-01-05', '2009-01-06', '2009-01-07',\n",
       "       '2009-01-08', '2009-01-09', '2009-01-10'], dtype=object)"
      ]
     },
     "execution_count": 7,
     "metadata": {},
     "output_type": "execute_result"
    }
   ],
   "source": [
    "df[df[\"semana\"]==1][\"fecha\"].unique()"
   ]
  },
  {
   "cell_type": "code",
   "execution_count": 20,
   "metadata": {},
   "outputs": [],
   "source": [
    "df[\"Año\"] = df[\"fecha\"].apply(lambda x: str(x)[0:4])"
   ]
  },
  {
   "cell_type": "code",
   "execution_count": 22,
   "metadata": {},
   "outputs": [],
   "source": [
    "del df[\"Menores de 1 año\"]\n",
    "del df[\"1-4 años\"]\n",
    "del df[\"5-14 años\"]\n",
    "del df[\"15-64 años\"]\n",
    "del df[\"65 años y más\"]"
   ]
  },
  {
   "cell_type": "code",
   "execution_count": 24,
   "metadata": {},
   "outputs": [],
   "source": [
    "df2 = df.groupby(by=['IdEstablecimiento', 'NEstablecimiento', 'IdCausa', 'GlosaCausa',\n",
    "                     'semana', 'GLOSATIPOESTABLECIMIENTO',\n",
    "                     'GLOSATIPOATENCION', 'GlosaTipoCampana', 'Año']).sum()"
   ]
  },
  {
   "cell_type": "code",
   "execution_count": 25,
   "metadata": {},
   "outputs": [],
   "source": [
    "df2 = df2.reset_index()\n",
    "#df2.to_excel(\"PruebaUrgencias2009.xlsx\", index = False)"
   ]
  },
  {
   "cell_type": "code",
   "execution_count": 26,
   "metadata": {},
   "outputs": [],
   "source": [
    "dfRef = pd.read_excel(r\"C:\\Users\\gusti\\Notebooks\\RefUrgencias.xlsx\")"
   ]
  },
  {
   "cell_type": "code",
   "execution_count": 27,
   "metadata": {},
   "outputs": [],
   "source": [
    "dfRef2 = pd.read_excel(r\"C:\\Users\\gusti\\Notebooks\\RefRegionUrgencias.xlsx\")"
   ]
  },
  {
   "cell_type": "code",
   "execution_count": 28,
   "metadata": {},
   "outputs": [],
   "source": [
    "dfExcluidos = pd.read_excel(r\"C:\\Users\\gusti\\Notebooks\\RefUrgencias.xlsx\", sheet_name = \"Excluidos\")"
   ]
  },
  {
   "cell_type": "code",
   "execution_count": 33,
   "metadata": {
    "scrolled": true
   },
   "outputs": [],
   "source": [
    "import warnings\n",
    "warnings.filterwarnings('ignore')\n",
    "dfReferencia = df[['IdEstablecimiento', 'NEstablecimiento', 'IdCausa', 'GlosaCausa', 'GLOSATIPOESTABLECIMIENTO', 'GLOSATIPOATENCION',\n",
    "                   'GlosaTipoCampana']]\n",
    "dfReferencia2 = dfReferencia.drop_duplicates()\n",
    "df2_1 = df2[df2[\"semana\"]==df2[\"semana\"].unique()[0]]\n",
    "df2_1[df2[\"semana\"].unique()[0]] = df2_1[\"Total\"]\n",
    "del df2_1[\"Total\"]\n",
    "del df2_1[\"semana\"]\n",
    "df2_1 = df2_1.merge(dfReferencia2, left_on=['IdEstablecimiento', 'NEstablecimiento', 'IdCausa', 'GlosaCausa', 'GLOSATIPOESTABLECIMIENTO', 'GLOSATIPOATENCION',\n",
    "       'GlosaTipoCampana'], right_on=['IdEstablecimiento', 'NEstablecimiento', 'IdCausa', 'GlosaCausa', 'GLOSATIPOESTABLECIMIENTO', 'GLOSATIPOATENCION',\n",
    "       'GlosaTipoCampana'], how=\"right\")\n",
    "for i in df2[\"semana\"].unique()[1:]:\n",
    "    dfAux = df2[df2[\"semana\"] == i]\n",
    "    dfAux[i] = dfAux[\"Total\"]\n",
    "    del dfAux[\"semana\"]\n",
    "    del dfAux[\"Total\"]\n",
    "    df2_1 = df2_1.merge(dfAux, left_on=['IdEstablecimiento', 'NEstablecimiento', 'IdCausa', 'GlosaCausa', 'GLOSATIPOESTABLECIMIENTO', 'GLOSATIPOATENCION',\n",
    "       'GlosaTipoCampana','Año'], right_on= ['IdEstablecimiento', 'NEstablecimiento', 'IdCausa', 'GlosaCausa', 'GLOSATIPOESTABLECIMIENTO', 'GLOSATIPOATENCION',\n",
    "       'GlosaTipoCampana','Año'],how=\"left\")"
   ]
  },
  {
   "cell_type": "code",
   "execution_count": 34,
   "metadata": {},
   "outputs": [
    {
     "name": "stdout",
     "output_type": "stream",
     "text": [
      "IdEstablecimiento\n",
      "NEstablecimiento\n",
      "IdCausa\n",
      "GlosaCausa\n",
      "GLOSATIPOESTABLECIMIENTO\n",
      "GLOSATIPOATENCION\n",
      "GlosaTipoCampana\n",
      "Año\n",
      "13\n",
      "25\n",
      "26\n",
      "27\n",
      "28\n",
      "29\n",
      "30\n",
      "31\n",
      "39\n",
      "40\n",
      "41\n",
      "42\n",
      "43\n",
      "44\n",
      "45\n",
      "46\n",
      "47\n",
      "48\n",
      "49\n",
      "50\n",
      "51\n",
      "52\n",
      "32\n",
      "33\n",
      "34\n",
      "35\n",
      "36\n",
      "37\n",
      "38\n",
      "1\n",
      "2\n",
      "3\n",
      "4\n",
      "5\n",
      "6\n",
      "7\n",
      "8\n",
      "9\n",
      "10\n",
      "11\n",
      "12\n",
      "14\n",
      "15\n",
      "16\n",
      "17\n",
      "18\n",
      "19\n",
      "20\n",
      "21\n",
      "22\n",
      "23\n",
      "24\n"
     ]
    }
   ],
   "source": [
    "for i in df2_1.columns:\n",
    "    print(i)"
   ]
  },
  {
   "cell_type": "code",
   "execution_count": 35,
   "metadata": {},
   "outputs": [],
   "source": [
    "dfFix2 = df2_1[['GlosaCausa',1,2,3,4,5,6,7,8,9,10,11,12,13,14,15,16,17,18,19,20,21,22,23,24,25,\n",
    "                26,27,28,29,30,31,32,33,34,35,36,37,38,39,40,41,42,43,44,45,46,47,48,49,\n",
    "                50,51,52,'Año','GLOSATIPOESTABLECIMIENTO','NEstablecimiento','GLOSATIPOATENCION']]"
   ]
  },
  {
   "cell_type": "code",
   "execution_count": 36,
   "metadata": {},
   "outputs": [],
   "source": [
    "dfFix3 = dfFix2.rename(columns={'Año':'Fecha','GLOSATIPOESTABLECIMIENTO':'Tipo Establecimiento',\n",
    "                                'NEstablecimiento':'Nombre establecimiento','GLOSATIPOATENCION':'Tipo'})"
   ]
  },
  {
   "cell_type": "code",
   "execution_count": 37,
   "metadata": {},
   "outputs": [],
   "source": [
    "excluidos = list(dfExcluidos[\"Excluidos\"])"
   ]
  },
  {
   "cell_type": "code",
   "execution_count": 38,
   "metadata": {},
   "outputs": [],
   "source": [
    "dfFix4 = dfFix3[dfFix3[\"GlosaCausa\"].apply(lambda x: x not in excluidos)]"
   ]
  },
  {
   "cell_type": "code",
   "execution_count": 39,
   "metadata": {},
   "outputs": [],
   "source": [
    "dfMerge = dfFix4.merge(dfRef, left_on= \"GlosaCausa\", right_on= \"Urgencia\", how= \"inner\")"
   ]
  },
  {
   "cell_type": "code",
   "execution_count": 40,
   "metadata": {},
   "outputs": [],
   "source": [
    "dfMergeFix = dfMerge[['Urgencia',1,2,3,4,5,6,7,8,9,10,11,12,13,14,15,16,17,18,19,20,21,22,23,24,25,26,\n",
    "                      27,28,29,30,31,32,33,34,35,36,37,38,39,40,41,42,43,44,45,46,47,48,\n",
    "                      49,50,51,52,'Fecha','Tipo Establecimiento','Nombre establecimiento',\n",
    "                      'Tipo','Causas']]"
   ]
  },
  {
   "cell_type": "code",
   "execution_count": 41,
   "metadata": {},
   "outputs": [],
   "source": [
    "dfFinal = dfMergeFix.merge(dfRef2, left_on= \"Nombre establecimiento\", right_on= \"Nombre establecimiento\", how= \"inner\")"
   ]
  },
  {
   "cell_type": "code",
   "execution_count": 42,
   "metadata": {},
   "outputs": [],
   "source": [
    "dfFinal2 = dfFinal[['Urgencia',1,2,3,4,5,6,7,8,9,10,11,12,13,14,15,16,17,18,19,20,21,22,23,24,25,26,\n",
    "                      27,28,29,30,31,32,33,34,35,36,37,38,39,40,41,42,43,44,45,46,47,48,\n",
    "                      49,50,51,52,'Fecha','Region','Tipo Establecimiento','Nombre establecimiento',\n",
    "                      'Tipo','Causas']]"
   ]
  },
  {
   "cell_type": "code",
   "execution_count": 43,
   "metadata": {},
   "outputs": [],
   "source": [
    "dfFinal2.to_excel(\"Urgencias2009.xlsx\", index = False)"
   ]
  },
  {
   "cell_type": "code",
   "execution_count": null,
   "metadata": {},
   "outputs": [],
   "source": []
  }
 ],
 "metadata": {
  "kernelspec": {
   "display_name": "Python 3",
   "language": "python",
   "name": "python3"
  },
  "language_info": {
   "codemirror_mode": {
    "name": "ipython",
    "version": 3
   },
   "file_extension": ".py",
   "mimetype": "text/x-python",
   "name": "python",
   "nbconvert_exporter": "python",
   "pygments_lexer": "ipython3",
   "version": "3.8.5"
  }
 },
 "nbformat": 4,
 "nbformat_minor": 4
}
