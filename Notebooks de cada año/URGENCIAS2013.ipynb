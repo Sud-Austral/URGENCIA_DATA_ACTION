{
 "cells": [
  {
   "cell_type": "code",
   "execution_count": 1,
   "metadata": {},
   "outputs": [],
   "source": [
    "import pandas as pd"
   ]
  },
  {
   "cell_type": "code",
   "execution_count": 2,
   "metadata": {
    "scrolled": false
   },
   "outputs": [],
   "source": [
    "df = pd.read_csv(r\"C:\\Users\\gusti\\Notebooks\\urgencias\\AtencionesUrgenciaLineal2013.csv\")"
   ]
  },
  {
   "cell_type": "code",
   "execution_count": 3,
   "metadata": {},
   "outputs": [
    {
     "data": {
      "text/plain": [
       "array([], dtype=object)"
      ]
     },
     "execution_count": 3,
     "metadata": {},
     "output_type": "execute_result"
    }
   ],
   "source": [
    "df[df[\"semana\"]==53][\"fecha\"].unique()"
   ]
  },
  {
   "cell_type": "code",
   "execution_count": 4,
   "metadata": {},
   "outputs": [],
   "source": [
    "df[\"Año\"] = df[\"fecha\"].apply(lambda x: str(x)[0:4])"
   ]
  },
  {
   "cell_type": "code",
   "execution_count": 5,
   "metadata": {},
   "outputs": [],
   "source": [
    "del df[\"Menores de 1 año\"]\n",
    "del df[\"1-4 años\"]\n",
    "del df[\"5-14 años\"]\n",
    "del df[\"15-64 años\"]\n",
    "del df[\"65 años y más\"]"
   ]
  },
  {
   "cell_type": "code",
   "execution_count": 6,
   "metadata": {},
   "outputs": [],
   "source": [
    "df2 = df.groupby(by=['IdEstablecimiento', 'NEstablecimiento', 'IdCausa', 'GlosaCausa',\n",
    "                     'semana', 'GLOSATIPOESTABLECIMIENTO',\n",
    "                     'GLOSATIPOATENCION', 'GlosaTipoCampana', 'Año']).sum()"
   ]
  },
  {
   "cell_type": "code",
   "execution_count": 7,
   "metadata": {},
   "outputs": [],
   "source": [
    "df2 = df2.reset_index()\n",
    "#df2.to_excel(\"PruebaUrgencias2013.xlsx\", index = False)"
   ]
  },
  {
   "cell_type": "code",
   "execution_count": 8,
   "metadata": {},
   "outputs": [],
   "source": [
    "dfRef = pd.read_excel(r\"C:\\Users\\gusti\\Notebooks\\RefUrgencias.xlsx\")"
   ]
  },
  {
   "cell_type": "code",
   "execution_count": 9,
   "metadata": {},
   "outputs": [],
   "source": [
    "dfRef2 = pd.read_excel(r\"C:\\Users\\gusti\\Notebooks\\RefRegionUrgencias.xlsx\")"
   ]
  },
  {
   "cell_type": "code",
   "execution_count": 10,
   "metadata": {},
   "outputs": [],
   "source": [
    "dfExcluidos = pd.read_excel(r\"C:\\Users\\gusti\\Notebooks\\RefUrgencias.xlsx\", sheet_name = \"Excluidos\")"
   ]
  },
  {
   "cell_type": "code",
   "execution_count": 13,
   "metadata": {
    "scrolled": true
   },
   "outputs": [],
   "source": [
    "import warnings\n",
    "warnings.filterwarnings('ignore')\n",
    "dfReferencia = df[['IdEstablecimiento', 'NEstablecimiento', 'IdCausa', 'GlosaCausa', 'GLOSATIPOESTABLECIMIENTO', 'GLOSATIPOATENCION',\n",
    "                   'GlosaTipoCampana']]\n",
    "dfReferencia2 = dfReferencia.drop_duplicates()\n",
    "df2_1 = df2[df2[\"semana\"]==df2[\"semana\"].unique()[0]]\n",
    "df2_1[df2[\"semana\"].unique()[0]] = df2_1[\"Total\"]\n",
    "del df2_1[\"Total\"]\n",
    "del df2_1[\"semana\"]\n",
    "df2_1 = df2_1.merge(dfReferencia2, left_on=['IdEstablecimiento', 'NEstablecimiento', 'IdCausa', 'GlosaCausa', 'GLOSATIPOESTABLECIMIENTO', 'GLOSATIPOATENCION',\n",
    "       'GlosaTipoCampana'], right_on=['IdEstablecimiento', 'NEstablecimiento', 'IdCausa', 'GlosaCausa', 'GLOSATIPOESTABLECIMIENTO', 'GLOSATIPOATENCION',\n",
    "       'GlosaTipoCampana'], how=\"right\")\n",
    "for i in df2[\"semana\"].unique()[1:]:\n",
    "    dfAux = df2[df2[\"semana\"] == i]\n",
    "    dfAux[i] = dfAux[\"Total\"]\n",
    "    del dfAux[\"semana\"]\n",
    "    del dfAux[\"Total\"]\n",
    "    df2_1 = df2_1.merge(dfAux, left_on=['IdEstablecimiento', 'NEstablecimiento', 'IdCausa', 'GlosaCausa', 'GLOSATIPOESTABLECIMIENTO', 'GLOSATIPOATENCION',\n",
    "       'GlosaTipoCampana','Año'], right_on= ['IdEstablecimiento', 'NEstablecimiento', 'IdCausa', 'GlosaCausa', 'GLOSATIPOESTABLECIMIENTO', 'GLOSATIPOATENCION',\n",
    "       'GlosaTipoCampana','Año'],how=\"left\")"
   ]
  },
  {
   "cell_type": "code",
   "execution_count": 14,
   "metadata": {},
   "outputs": [],
   "source": [
    "dfFix2 = df2_1[['GlosaCausa',1,2,3,4,5,6,7,8,9,10,11,12,13,14,15,16,17,18,19,20,21,22,23,24,25,\n",
    "                26,27,28,29,30,31,32,33,34,35,36,37,38,39,40,41,42,43,44,45,46,47,48,49,\n",
    "                50,51,52,'Año','GLOSATIPOESTABLECIMIENTO','NEstablecimiento','GLOSATIPOATENCION']]"
   ]
  },
  {
   "cell_type": "code",
   "execution_count": 15,
   "metadata": {},
   "outputs": [],
   "source": [
    "dfFix3 = dfFix2.rename(columns={'Año':'Fecha','GLOSATIPOESTABLECIMIENTO':'Tipo Establecimiento',\n",
    "                                'NEstablecimiento':'Nombre establecimiento','GLOSATIPOATENCION':'Tipo'})"
   ]
  },
  {
   "cell_type": "code",
   "execution_count": 16,
   "metadata": {},
   "outputs": [],
   "source": [
    "excluidos = list(dfExcluidos[\"Excluidos\"])"
   ]
  },
  {
   "cell_type": "code",
   "execution_count": 17,
   "metadata": {},
   "outputs": [],
   "source": [
    "dfFix4 = dfFix3[dfFix3[\"GlosaCausa\"].apply(lambda x: x not in excluidos)]"
   ]
  },
  {
   "cell_type": "code",
   "execution_count": 18,
   "metadata": {},
   "outputs": [],
   "source": [
    "dfMerge = dfFix4.merge(dfRef, left_on= \"GlosaCausa\", right_on= \"Urgencia\", how= \"inner\")"
   ]
  },
  {
   "cell_type": "code",
   "execution_count": 19,
   "metadata": {},
   "outputs": [],
   "source": [
    "dfMergeFix = dfMerge[['Urgencia',1,2,3,4,5,6,7,8,9,10,11,12,13,14,15,16,17,18,19,20,21,22,23,24,25,26,\n",
    "                      27,28,29,30,31,32,33,34,35,36,37,38,39,40,41,42,43,44,45,46,47,48,\n",
    "                      49,50,51,52,'Fecha','Tipo Establecimiento','Nombre establecimiento',\n",
    "                      'Tipo','Causas']]"
   ]
  },
  {
   "cell_type": "code",
   "execution_count": 20,
   "metadata": {},
   "outputs": [],
   "source": [
    "dfFinal = dfMergeFix.merge(dfRef2, left_on= \"Nombre establecimiento\", right_on= \"Nombre establecimiento\", how= \"inner\")"
   ]
  },
  {
   "cell_type": "code",
   "execution_count": 21,
   "metadata": {},
   "outputs": [],
   "source": [
    "dfFinal2 = dfFinal[['Urgencia',1,2,3,4,5,6,7,8,9,10,11,12,13,14,15,16,17,18,19,20,21,22,23,24,25,26,\n",
    "                      27,28,29,30,31,32,33,34,35,36,37,38,39,40,41,42,43,44,45,46,47,48,\n",
    "                      49,50,51,52,'Fecha','Region','Tipo Establecimiento','Nombre establecimiento',\n",
    "                      'Tipo','Causas']]"
   ]
  },
  {
   "cell_type": "code",
   "execution_count": 22,
   "metadata": {},
   "outputs": [],
   "source": [
    "dfFinal2.to_excel(\"Urgencias2013.xlsx\", index = False)"
   ]
  },
  {
   "cell_type": "code",
   "execution_count": null,
   "metadata": {},
   "outputs": [],
   "source": []
  }
 ],
 "metadata": {
  "kernelspec": {
   "display_name": "Python 3",
   "language": "python",
   "name": "python3"
  },
  "language_info": {
   "codemirror_mode": {
    "name": "ipython",
    "version": 3
   },
   "file_extension": ".py",
   "mimetype": "text/x-python",
   "name": "python",
   "nbconvert_exporter": "python",
   "pygments_lexer": "ipython3",
   "version": "3.8.5"
  }
 },
 "nbformat": 4,
 "nbformat_minor": 4
}
