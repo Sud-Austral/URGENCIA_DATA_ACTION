{
 "cells": [
  {
   "cell_type": "code",
   "execution_count": 1,
   "metadata": {},
   "outputs": [],
   "source": [
    "import pandas as pd"
   ]
  },
  {
   "cell_type": "code",
   "execution_count": 2,
   "metadata": {
    "scrolled": false
   },
   "outputs": [],
   "source": [
    "df = pd.read_csv(r\"C:\\Users\\gusti\\Notebooks\\urgencias\\AtencionesUrgencia2022.csv\", encoding=\"latin1\", sep=\";\")"
   ]
  },
  {
   "cell_type": "code",
   "execution_count": 3,
   "metadata": {},
   "outputs": [],
   "source": [
    "df[\"Año\"] = df[\"fecha\"].apply(lambda x: str(x)[30:35])"
   ]
  },
  {
   "cell_type": "code",
   "execution_count": 4,
   "metadata": {},
   "outputs": [],
   "source": [
    "del df[\"MENOR_A_1\"]\n",
    "del df[\"Column7\"]\n",
    "del df[\"__14\"]\n",
    "del df[\"_5_64\"]\n",
    "del df[\"_5_MAS\"]"
   ]
  },
  {
   "cell_type": "code",
   "execution_count": 5,
   "metadata": {},
   "outputs": [
    {
     "data": {
      "text/plain": [
       "Index(['idestablecimiento', 'nestablecimiento', 'Idcausa', 'glosacausa',\n",
       "       'TOTAL', 'fecha', 'semana', 'GLOSATIPOESTABLECIMIENTO',\n",
       "       'GLOSATIPOATENCION', 'GlosaTipoCampana', 'Año'],\n",
       "      dtype='object')"
      ]
     },
     "execution_count": 5,
     "metadata": {},
     "output_type": "execute_result"
    }
   ],
   "source": [
    "df.columns"
   ]
  },
  {
   "cell_type": "code",
   "execution_count": 6,
   "metadata": {},
   "outputs": [],
   "source": [
    "df2 = df.groupby(by=['idestablecimiento', 'nestablecimiento', 'Idcausa', 'glosacausa',\n",
    "                     'semana', 'GLOSATIPOESTABLECIMIENTO',\n",
    "                     'GLOSATIPOATENCION', 'GlosaTipoCampana', 'Año']).sum()"
   ]
  },
  {
   "cell_type": "code",
   "execution_count": 7,
   "metadata": {},
   "outputs": [],
   "source": [
    "df2 = df2.reset_index()\n",
    "#df2.to_excel(\"PruebaUrgencias2022.xlsx\", index = False)"
   ]
  },
  {
   "cell_type": "code",
   "execution_count": 8,
   "metadata": {},
   "outputs": [],
   "source": [
    "dfRef = pd.read_excel(r\"C:\\Users\\gusti\\Notebooks\\RefUrgencias.xlsx\")"
   ]
  },
  {
   "cell_type": "code",
   "execution_count": 9,
   "metadata": {},
   "outputs": [],
   "source": [
    "dfRef2 = pd.read_excel(r\"C:\\Users\\gusti\\Notebooks\\RefRegionUrgencias.xlsx\")"
   ]
  },
  {
   "cell_type": "code",
   "execution_count": 10,
   "metadata": {},
   "outputs": [],
   "source": [
    "dfExcluidos = pd.read_excel(r\"C:\\Users\\gusti\\Notebooks\\RefUrgencias.xlsx\", sheet_name = \"Excluidos\")"
   ]
  },
  {
   "cell_type": "code",
   "execution_count": 11,
   "metadata": {
    "scrolled": true
   },
   "outputs": [
    {
     "name": "stderr",
     "output_type": "stream",
     "text": [
      "<ipython-input-11-fb27c1066df6>:3: SettingWithCopyWarning: \n",
      "A value is trying to be set on a copy of a slice from a DataFrame.\n",
      "Try using .loc[row_indexer,col_indexer] = value instead\n",
      "\n",
      "See the caveats in the documentation: https://pandas.pydata.org/pandas-docs/stable/user_guide/indexing.html#returning-a-view-versus-a-copy\n",
      "  df2_1[df2[\"semana\"].unique()[0]] = df2_1[\"TOTAL\"]\n",
      "<ipython-input-11-fb27c1066df6>:8: SettingWithCopyWarning: \n",
      "A value is trying to be set on a copy of a slice from a DataFrame.\n",
      "Try using .loc[row_indexer,col_indexer] = value instead\n",
      "\n",
      "See the caveats in the documentation: https://pandas.pydata.org/pandas-docs/stable/user_guide/indexing.html#returning-a-view-versus-a-copy\n",
      "  dfAux[i] = dfAux[\"TOTAL\"]\n",
      "<ipython-input-11-fb27c1066df6>:8: SettingWithCopyWarning: \n",
      "A value is trying to be set on a copy of a slice from a DataFrame.\n",
      "Try using .loc[row_indexer,col_indexer] = value instead\n",
      "\n",
      "See the caveats in the documentation: https://pandas.pydata.org/pandas-docs/stable/user_guide/indexing.html#returning-a-view-versus-a-copy\n",
      "  dfAux[i] = dfAux[\"TOTAL\"]\n",
      "<ipython-input-11-fb27c1066df6>:8: SettingWithCopyWarning: \n",
      "A value is trying to be set on a copy of a slice from a DataFrame.\n",
      "Try using .loc[row_indexer,col_indexer] = value instead\n",
      "\n",
      "See the caveats in the documentation: https://pandas.pydata.org/pandas-docs/stable/user_guide/indexing.html#returning-a-view-versus-a-copy\n",
      "  dfAux[i] = dfAux[\"TOTAL\"]\n",
      "<ipython-input-11-fb27c1066df6>:8: SettingWithCopyWarning: \n",
      "A value is trying to be set on a copy of a slice from a DataFrame.\n",
      "Try using .loc[row_indexer,col_indexer] = value instead\n",
      "\n",
      "See the caveats in the documentation: https://pandas.pydata.org/pandas-docs/stable/user_guide/indexing.html#returning-a-view-versus-a-copy\n",
      "  dfAux[i] = dfAux[\"TOTAL\"]\n",
      "<ipython-input-11-fb27c1066df6>:8: SettingWithCopyWarning: \n",
      "A value is trying to be set on a copy of a slice from a DataFrame.\n",
      "Try using .loc[row_indexer,col_indexer] = value instead\n",
      "\n",
      "See the caveats in the documentation: https://pandas.pydata.org/pandas-docs/stable/user_guide/indexing.html#returning-a-view-versus-a-copy\n",
      "  dfAux[i] = dfAux[\"TOTAL\"]\n",
      "<ipython-input-11-fb27c1066df6>:8: SettingWithCopyWarning: \n",
      "A value is trying to be set on a copy of a slice from a DataFrame.\n",
      "Try using .loc[row_indexer,col_indexer] = value instead\n",
      "\n",
      "See the caveats in the documentation: https://pandas.pydata.org/pandas-docs/stable/user_guide/indexing.html#returning-a-view-versus-a-copy\n",
      "  dfAux[i] = dfAux[\"TOTAL\"]\n",
      "<ipython-input-11-fb27c1066df6>:8: SettingWithCopyWarning: \n",
      "A value is trying to be set on a copy of a slice from a DataFrame.\n",
      "Try using .loc[row_indexer,col_indexer] = value instead\n",
      "\n",
      "See the caveats in the documentation: https://pandas.pydata.org/pandas-docs/stable/user_guide/indexing.html#returning-a-view-versus-a-copy\n",
      "  dfAux[i] = dfAux[\"TOTAL\"]\n",
      "<ipython-input-11-fb27c1066df6>:8: SettingWithCopyWarning: \n",
      "A value is trying to be set on a copy of a slice from a DataFrame.\n",
      "Try using .loc[row_indexer,col_indexer] = value instead\n",
      "\n",
      "See the caveats in the documentation: https://pandas.pydata.org/pandas-docs/stable/user_guide/indexing.html#returning-a-view-versus-a-copy\n",
      "  dfAux[i] = dfAux[\"TOTAL\"]\n",
      "<ipython-input-11-fb27c1066df6>:8: SettingWithCopyWarning: \n",
      "A value is trying to be set on a copy of a slice from a DataFrame.\n",
      "Try using .loc[row_indexer,col_indexer] = value instead\n",
      "\n",
      "See the caveats in the documentation: https://pandas.pydata.org/pandas-docs/stable/user_guide/indexing.html#returning-a-view-versus-a-copy\n",
      "  dfAux[i] = dfAux[\"TOTAL\"]\n",
      "<ipython-input-11-fb27c1066df6>:8: SettingWithCopyWarning: \n",
      "A value is trying to be set on a copy of a slice from a DataFrame.\n",
      "Try using .loc[row_indexer,col_indexer] = value instead\n",
      "\n",
      "See the caveats in the documentation: https://pandas.pydata.org/pandas-docs/stable/user_guide/indexing.html#returning-a-view-versus-a-copy\n",
      "  dfAux[i] = dfAux[\"TOTAL\"]\n",
      "<ipython-input-11-fb27c1066df6>:8: SettingWithCopyWarning: \n",
      "A value is trying to be set on a copy of a slice from a DataFrame.\n",
      "Try using .loc[row_indexer,col_indexer] = value instead\n",
      "\n",
      "See the caveats in the documentation: https://pandas.pydata.org/pandas-docs/stable/user_guide/indexing.html#returning-a-view-versus-a-copy\n",
      "  dfAux[i] = dfAux[\"TOTAL\"]\n",
      "<ipython-input-11-fb27c1066df6>:8: SettingWithCopyWarning: \n",
      "A value is trying to be set on a copy of a slice from a DataFrame.\n",
      "Try using .loc[row_indexer,col_indexer] = value instead\n",
      "\n",
      "See the caveats in the documentation: https://pandas.pydata.org/pandas-docs/stable/user_guide/indexing.html#returning-a-view-versus-a-copy\n",
      "  dfAux[i] = dfAux[\"TOTAL\"]\n",
      "<ipython-input-11-fb27c1066df6>:8: SettingWithCopyWarning: \n",
      "A value is trying to be set on a copy of a slice from a DataFrame.\n",
      "Try using .loc[row_indexer,col_indexer] = value instead\n",
      "\n",
      "See the caveats in the documentation: https://pandas.pydata.org/pandas-docs/stable/user_guide/indexing.html#returning-a-view-versus-a-copy\n",
      "  dfAux[i] = dfAux[\"TOTAL\"]\n"
     ]
    }
   ],
   "source": [
    "df3 = df2\n",
    "df2_1 = df2[df2[\"semana\"]==df2[\"semana\"].unique()[0]]\n",
    "df2_1[df2[\"semana\"].unique()[0]] = df2_1[\"TOTAL\"]\n",
    "del df2_1[\"TOTAL\"]\n",
    "del df2_1[\"semana\"]\n",
    "for i in df2[\"semana\"].unique()[1:]:\n",
    "    dfAux = df2[df2[\"semana\"] == i]\n",
    "    dfAux[i] = dfAux[\"TOTAL\"]\n",
    "    del dfAux[\"semana\"]\n",
    "    del dfAux[\"TOTAL\"]\n",
    "    df2_1 = df2_1.merge(dfAux, left_on=['idestablecimiento', 'nestablecimiento', 'Idcausa', 'glosacausa', 'GLOSATIPOESTABLECIMIENTO', 'GLOSATIPOATENCION',\n",
    "       'GlosaTipoCampana', 'Año'], right_on= ['idestablecimiento', 'nestablecimiento', 'Idcausa', 'glosacausa', 'GLOSATIPOESTABLECIMIENTO', 'GLOSATIPOATENCION',\n",
    "       'GlosaTipoCampana', 'Año'])"
   ]
  },
  {
   "cell_type": "code",
   "execution_count": 14,
   "metadata": {},
   "outputs": [],
   "source": [
    "dfFix2 = df2_1[['glosacausa',1,2,3,4,5,6,7,8,9,10,11,12,13,'Año','GLOSATIPOESTABLECIMIENTO'\n",
    "                ,'nestablecimiento','GLOSATIPOATENCION']]"
   ]
  },
  {
   "cell_type": "code",
   "execution_count": 15,
   "metadata": {},
   "outputs": [],
   "source": [
    "dfFix3 = dfFix2.rename(columns={'Año':'Fecha','GLOSATIPOESTABLECIMIENTO':'Tipo Establecimiento',\n",
    "                                'nestablecimiento':'Nombre establecimiento','GLOSATIPOATENCION':'Tipo'})"
   ]
  },
  {
   "cell_type": "code",
   "execution_count": 16,
   "metadata": {},
   "outputs": [],
   "source": [
    "excluidos = list(dfExcluidos[\"Excluidos\"])"
   ]
  },
  {
   "cell_type": "code",
   "execution_count": 17,
   "metadata": {},
   "outputs": [],
   "source": [
    "dfFix4 = dfFix3[dfFix3[\"glosacausa\"].apply(lambda x: x not in excluidos)]"
   ]
  },
  {
   "cell_type": "code",
   "execution_count": 18,
   "metadata": {},
   "outputs": [],
   "source": [
    "dfMerge = dfFix4.merge(dfRef, left_on= \"glosacausa\", right_on= \"Urgencia\", how= \"inner\")"
   ]
  },
  {
   "cell_type": "code",
   "execution_count": 19,
   "metadata": {},
   "outputs": [],
   "source": [
    "dfMergeFix = dfMerge[['Urgencia',1,2,3,4,5,6,7,8,9,10,11,12,13,'Fecha'\n",
    "                      ,'Tipo Establecimiento','Nombre establecimiento','Tipo','Causas']]"
   ]
  },
  {
   "cell_type": "code",
   "execution_count": 20,
   "metadata": {},
   "outputs": [],
   "source": [
    "dfFinal = dfMergeFix.merge(dfRef2, left_on= \"Nombre establecimiento\", right_on= \"Nombre establecimiento\", how= \"inner\")"
   ]
  },
  {
   "cell_type": "code",
   "execution_count": 21,
   "metadata": {},
   "outputs": [],
   "source": [
    "dfFinal2 = dfFinal[['Urgencia',1,2,3,4,5,6,7,8,9,10,11,12,13,'Fecha','Region'\n",
    "                    ,'Tipo Establecimiento','Nombre establecimiento','Tipo','Causas']]"
   ]
  },
  {
   "cell_type": "code",
   "execution_count": 22,
   "metadata": {},
   "outputs": [],
   "source": [
    "dfFinal2.to_excel(\"Urgencias2022.xlsx\", index = False)"
   ]
  },
  {
   "cell_type": "code",
   "execution_count": null,
   "metadata": {},
   "outputs": [],
   "source": []
  }
 ],
 "metadata": {
  "kernelspec": {
   "display_name": "Python 3",
   "language": "python",
   "name": "python3"
  },
  "language_info": {
   "codemirror_mode": {
    "name": "ipython",
    "version": 3
   },
   "file_extension": ".py",
   "mimetype": "text/x-python",
   "name": "python",
   "nbconvert_exporter": "python",
   "pygments_lexer": "ipython3",
   "version": "3.8.5"
  }
 },
 "nbformat": 4,
 "nbformat_minor": 4
}
